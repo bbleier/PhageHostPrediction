{
 "cells": [
  {
   "cell_type": "markdown",
   "metadata": {},
   "source": [
    "# Verification Document\n",
    "\n",
    "This document is designed to load and check the data taken from the NCBI database"
   ]
  },
  {
   "cell_type": "markdown",
   "metadata": {},
   "source": [
    "Assumptions:\n",
    "- For a phage with multiple interactions, chose the bacteria that has the highest number of interactions with all phages\n",
    "- For phages with >10 proteins, selected the first 10 proteins in the list\n",
    "    - Can come back and select most useful instead of randomly picking ten\n",
    "- Set cutoff for useful proteins between 200 on the small side (seen in literature) and 1024 (ESM context length)"
   ]
  },
  {
   "cell_type": "markdown",
   "metadata": {},
   "source": [
    "## Load the phage-bacteria interaction label datasets"
   ]
  },
  {
   "cell_type": "code",
   "execution_count": 2,
   "metadata": {},
   "outputs": [],
   "source": [
    "import numpy as np\n",
    "import pandas as pd\n",
    "import matplotlib.pyplot as plt\n",
    "import time\n",
    "import os\n",
    "import json\n",
    "import re\n",
    "\n",
    "from Bio import Entrez\n",
    "from Bio import SeqIO\n",
    "from io import StringIO\n",
    "\n",
    "import psycopg2\n",
    "from sqlalchemy import create_engine\n",
    "\n",
    "from sklearn.model_selection import train_test_split"
   ]
  },
  {
   "cell_type": "code",
   "execution_count": 2,
   "metadata": {},
   "outputs": [],
   "source": [
    "#Data from VMR\n",
    "df1 = pd.read_excel('data/VMR_MSL38_v3.xlsx')\n",
    "\n",
    "#Data from Virus-Host DB\n",
    "df2 = pd.read_csv('data/virushostdb.tsv', delimiter='\\t')\n",
    "df2.drop(['KEGG GENOME', 'KEGG DISEASE', 'DISEASE'], inplace=True, axis=1) #Dropping unhelpful columns"
   ]
  },
  {
   "cell_type": "code",
   "execution_count": 3,
   "metadata": {},
   "outputs": [
    {
     "name": "stdout",
     "output_type": "stream",
     "text": [
      "The filtered dataset includes 13756 samples from 135 different bacteria\n",
      "All bacteria have at least 20 samples each\n"
     ]
    }
   ],
   "source": [
    "def clean_and_filter_df(df):\n",
    "\n",
    "    #Add a column that pulls out the host type\n",
    "    def parse_host_type(x):\n",
    "        x = str(x)\n",
    "        return x.split(';')[0]\n",
    "    \n",
    "    def select_first_refseqid(x):\n",
    "        try: \n",
    "            first_name = x.split(',')[0]\n",
    "        except:\n",
    "            first_name = x\n",
    "        return first_name\n",
    "\n",
    "    df['host_type'] = df['host lineage'].map(parse_host_type)\n",
    "\n",
    "    #Trim the dataframe to bacteria only\n",
    "    df_bacteria = df[df['host_type'] == 'Bacteria']\n",
    "\n",
    "    #Set up a threshold for minimum number of interactions per bacteria\n",
    "    cutoff_value = 20\n",
    "    df_groupby_bacteria = df_bacteria.groupby('host name')\n",
    "    sorted_bacteria_count = np.sort(df_groupby_bacteria['host name'].count().values)[::-1]\n",
    "    count = df_groupby_bacteria['host name'].count()\n",
    "    filtered_names = list(count[count >= cutoff_value].index)\n",
    "\n",
    "    df_bacteria_filtered = df_bacteria[df_bacteria['host name'].isin(filtered_names)]\n",
    "\n",
    "    #Select the first refseq id in the rare case that multiple id's are listed in this column\n",
    "    df_bacteria_filtered.loc[:, 'refseq id'] = df_bacteria_filtered['refseq id'].map(select_first_refseqid)\n",
    "\n",
    "    #Summarize\n",
    "    print(f'The filtered dataset includes {df_bacteria_filtered.shape[0]} samples from {len(filtered_names)} different bacteria')\n",
    "    print(f'All bacteria have at least {cutoff_value} samples each')\n",
    "\n",
    "    return df_bacteria_filtered\n",
    "\n",
    "\n",
    "df_bacteria_filtered = clean_and_filter_df(df2)"
   ]
  },
  {
   "cell_type": "code",
   "execution_count": 4,
   "metadata": {},
   "outputs": [
    {
     "data": {
      "text/html": [
       "<div>\n",
       "<style scoped>\n",
       "    .dataframe tbody tr th:only-of-type {\n",
       "        vertical-align: middle;\n",
       "    }\n",
       "\n",
       "    .dataframe tbody tr th {\n",
       "        vertical-align: top;\n",
       "    }\n",
       "\n",
       "    .dataframe thead th {\n",
       "        text-align: right;\n",
       "    }\n",
       "</style>\n",
       "<table border=\"1\" class=\"dataframe\">\n",
       "  <thead>\n",
       "    <tr style=\"text-align: right;\">\n",
       "      <th></th>\n",
       "      <th>virus tax id</th>\n",
       "      <th>virus name</th>\n",
       "      <th>virus lineage</th>\n",
       "      <th>refseq id</th>\n",
       "      <th>host tax id</th>\n",
       "      <th>host name</th>\n",
       "      <th>host lineage</th>\n",
       "      <th>pmid</th>\n",
       "      <th>evidence</th>\n",
       "      <th>sample type</th>\n",
       "      <th>source organism</th>\n",
       "      <th>host_type</th>\n",
       "    </tr>\n",
       "  </thead>\n",
       "  <tbody>\n",
       "    <tr>\n",
       "      <th>48</th>\n",
       "      <td>3061295</td>\n",
       "      <td>Achromobacter phage 2-1</td>\n",
       "      <td>Viruses; Duplodnaviria; Heunggongvirae; Urovir...</td>\n",
       "      <td>OQ974181</td>\n",
       "      <td>85698.0</td>\n",
       "      <td>Achromobacter xylosoxidans</td>\n",
       "      <td>Bacteria; Pseudomonadota; Betaproteobacteria; ...</td>\n",
       "      <td>NaN</td>\n",
       "      <td>RefSeq</td>\n",
       "      <td>NaN</td>\n",
       "      <td>NaN</td>\n",
       "      <td>Bacteria</td>\n",
       "    </tr>\n",
       "    <tr>\n",
       "      <th>49</th>\n",
       "      <td>1589747</td>\n",
       "      <td>Achromobacter phage 83-24</td>\n",
       "      <td>Viruses; Duplodnaviria; Heunggongvirae; Urovir...</td>\n",
       "      <td>NC_028834</td>\n",
       "      <td>85698.0</td>\n",
       "      <td>Achromobacter xylosoxidans</td>\n",
       "      <td>Bacteria; Pseudomonadota; Betaproteobacteria; ...</td>\n",
       "      <td>24466294</td>\n",
       "      <td>Literature, RefSeq</td>\n",
       "      <td>NaN</td>\n",
       "      <td>NaN</td>\n",
       "      <td>Bacteria</td>\n",
       "    </tr>\n",
       "  </tbody>\n",
       "</table>\n",
       "</div>"
      ],
      "text/plain": [
       "    virus tax id                 virus name  \\\n",
       "48       3061295    Achromobacter phage 2-1   \n",
       "49       1589747  Achromobacter phage 83-24   \n",
       "\n",
       "                                        virus lineage  refseq id  host tax id  \\\n",
       "48  Viruses; Duplodnaviria; Heunggongvirae; Urovir...   OQ974181      85698.0   \n",
       "49  Viruses; Duplodnaviria; Heunggongvirae; Urovir...  NC_028834      85698.0   \n",
       "\n",
       "                     host name  \\\n",
       "48  Achromobacter xylosoxidans   \n",
       "49  Achromobacter xylosoxidans   \n",
       "\n",
       "                                         host lineage      pmid  \\\n",
       "48  Bacteria; Pseudomonadota; Betaproteobacteria; ...       NaN   \n",
       "49  Bacteria; Pseudomonadota; Betaproteobacteria; ...  24466294   \n",
       "\n",
       "              evidence sample type  source organism host_type  \n",
       "48              RefSeq         NaN              NaN  Bacteria  \n",
       "49  Literature, RefSeq         NaN              NaN  Bacteria  "
      ]
     },
     "execution_count": 4,
     "metadata": {},
     "output_type": "execute_result"
    }
   ],
   "source": [
    "df_bacteria_filtered.head(2)"
   ]
  },
  {
   "cell_type": "code",
   "execution_count": 5,
   "metadata": {},
   "outputs": [
    {
     "data": {
      "text/plain": [
       "host name\n",
       "Mycolicibacterium smegmatis MC2 155                        1727\n",
       "Escherichia coli                                           1033\n",
       "Klebsiella pneumoniae                                       665\n",
       "Gordonia terrae                                             518\n",
       "Mycolicibacterium smegmatis                                 466\n",
       "                                                           ... \n",
       "Synechococcus                                                20\n",
       "Pectobacterium carotovorum subsp. carotovorum                20\n",
       "Streptococcus equi                                           20\n",
       "Yersinia enterocolitica (type O:3)                           20\n",
       "Salmonella enterica subsp. enterica serovar Paratyphi A      20\n",
       "Name: refseq id, Length: 135, dtype: int64"
      ]
     },
     "execution_count": 5,
     "metadata": {},
     "output_type": "execute_result"
    }
   ],
   "source": [
    "df_bacteria_filtered.groupby('host name')['refseq id'].count().sort_values(ascending=False)"
   ]
  },
  {
   "cell_type": "code",
   "execution_count": 6,
   "metadata": {},
   "outputs": [
    {
     "data": {
      "text/plain": [
       "2682"
      ]
     },
     "execution_count": 6,
     "metadata": {},
     "output_type": "execute_result"
    }
   ],
   "source": [
    "df_bacteria_filtered.groupby('host name')['refseq id'].count().sort_values(ascending=False)[1:5].sum()"
   ]
  },
  {
   "cell_type": "markdown",
   "metadata": {},
   "source": [
    "## Load the NCBI Tail Protein Data"
   ]
  },
  {
   "cell_type": "code",
   "execution_count": 3,
   "metadata": {},
   "outputs": [
    {
     "data": {
      "text/html": [
       "<div>\n",
       "<style scoped>\n",
       "    .dataframe tbody tr th:only-of-type {\n",
       "        vertical-align: middle;\n",
       "    }\n",
       "\n",
       "    .dataframe tbody tr th {\n",
       "        vertical-align: top;\n",
       "    }\n",
       "\n",
       "    .dataframe thead th {\n",
       "        text-align: right;\n",
       "    }\n",
       "</style>\n",
       "<table border=\"1\" class=\"dataframe\">\n",
       "  <thead>\n",
       "    <tr style=\"text-align: right;\">\n",
       "      <th></th>\n",
       "      <th>phage_name</th>\n",
       "      <th>refseq_id</th>\n",
       "      <th>protein_label</th>\n",
       "      <th>protein_sequence</th>\n",
       "    </tr>\n",
       "  </thead>\n",
       "  <tbody>\n",
       "    <tr>\n",
       "      <th>0</th>\n",
       "      <td>Achromobacter phage 2-1</td>\n",
       "      <td>OQ974181</td>\n",
       "      <td>tail length tape measure protein chaperone</td>\n",
       "      <td>MSNHQAPASKRPLDRIKIMVNGETRDLFMSFGLLNELCALIPDAHA...</td>\n",
       "    </tr>\n",
       "    <tr>\n",
       "      <th>1</th>\n",
       "      <td>Achromobacter phage 2-1</td>\n",
       "      <td>OQ974181</td>\n",
       "      <td>tail length tape measure protein</td>\n",
       "      <td>MATSNQVDKGQVDLTLNQQVFDDVRKLESSLQGVLKTLNSVSSAFK...</td>\n",
       "    </tr>\n",
       "  </tbody>\n",
       "</table>\n",
       "</div>"
      ],
      "text/plain": [
       "                phage_name refseq_id  \\\n",
       "0  Achromobacter phage 2-1  OQ974181   \n",
       "1  Achromobacter phage 2-1  OQ974181   \n",
       "\n",
       "                                protein_label  \\\n",
       "0  tail length tape measure protein chaperone   \n",
       "1            tail length tape measure protein   \n",
       "\n",
       "                                    protein_sequence  \n",
       "0  MSNHQAPASKRPLDRIKIMVNGETRDLFMSFGLLNELCALIPDAHA...  \n",
       "1  MATSNQVDKGQVDLTLNQQVFDDVRKLESSLQGVLKTLNSVSSAFK...  "
      ]
     },
     "execution_count": 3,
     "metadata": {},
     "output_type": "execute_result"
    }
   ],
   "source": [
    "#Pull data from CSV file -> converted from SQL table created in 'Exploration.ipynb' file\n",
    "df_protein = pd.read_csv('data/protein_data_2024_06_04.csv', delimiter=',')\n",
    "df_protein.head(2)"
   ]
  },
  {
   "cell_type": "code",
   "execution_count": 4,
   "metadata": {},
   "outputs": [
    {
     "name": "stdout",
     "output_type": "stream",
     "text": [
      "There are 11316 unique viruses with tail protein information\n"
     ]
    }
   ],
   "source": [
    "print(f'There are {len(df_protein[\"refseq_id\"].unique())} unique viruses with tail protein information')"
   ]
  },
  {
   "cell_type": "markdown",
   "metadata": {},
   "source": [
    "#### Look at the distribution of protein lengths"
   ]
  },
  {
   "cell_type": "code",
   "execution_count": 5,
   "metadata": {},
   "outputs": [
    {
     "data": {
      "image/png": "[encoded data removed]",
      "text/plain": [
       "<Figure size 400x300 with 1 Axes>"
      ]
     },
     "metadata": {},
     "output_type": "display_data"
    }
   ],
   "source": [
    "df_protein['protein_length'] = df_protein['protein_sequence'].map(lambda x: len(x))\n",
    "\n",
    "plt.figure(figsize=(4, 3))\n",
    "plt.hist(df_protein['protein_length'], bins = 200)\n",
    "plt.xlabel('Number of Amino Acids per Protein')\n",
    "plt.ylabel('Frequency')\n",
    "plt.show()"
   ]
  },
  {
   "cell_type": "code",
   "execution_count": 6,
   "metadata": {},
   "outputs": [
    {
     "name": "stdout",
     "output_type": "stream",
     "text": [
      "53092 of 93295 tail proteins have a length between 200 to 1024 amino acids\n"
     ]
    }
   ],
   "source": [
    "min_prot_length = 200\n",
    "max_prot_length = 1024\n",
    "num_filtered_prot = len(df_protein[(df_protein['protein_length'] >= min_prot_length) & (df_protein['protein_length'] <= max_prot_length)])\n",
    "\n",
    "print(f'{num_filtered_prot} of {len(df_protein)} tail proteins have a length between {min_prot_length} to {max_prot_length} amino acids')"
   ]
  },
  {
   "cell_type": "code",
   "execution_count": 7,
   "metadata": {},
   "outputs": [
    {
     "name": "stdout",
     "output_type": "stream",
     "text": [
      "There are 35308 proteins smaller than the 200 AA cutoff limit\n",
      "There are 5155 proteins larger than the 1024 context length\n"
     ]
    }
   ],
   "source": [
    "num_small_proteins = df_protein[df_protein['protein_length'] <= min_prot_length].count()[0]\n",
    "num_large_proteins = df_protein[df_protein['protein_length'] >= max_prot_length].count()[0]\n",
    "print(f'There are {num_small_proteins} proteins smaller than the {min_prot_length} AA cutoff limit')\n",
    "print(f'There are {num_large_proteins} proteins larger than the 1024 context length')"
   ]
  },
  {
   "cell_type": "markdown",
   "metadata": {},
   "source": [
    "Note: 1024 is the context length cutoff for ProtBERT and ESM Models.  200 is an arbitrary minimum cutoff seen in literature. "
   ]
  },
  {
   "cell_type": "code",
   "execution_count": 8,
   "metadata": {},
   "outputs": [
    {
     "data": {
      "text/plain": [
       "53092"
      ]
     },
     "execution_count": 8,
     "metadata": {},
     "output_type": "execute_result"
    }
   ],
   "source": [
    "#Create a trimmed df that contains only proteins within min_prot_length <= AA <= max_prot_length\n",
    "df_protein_trimmed = df_protein[(df_protein['protein_length'] >= min_prot_length) & (df_protein['protein_length'] <= max_prot_length)]\n",
    "len(df_protein_trimmed)"
   ]
  },
  {
   "cell_type": "markdown",
   "metadata": {},
   "source": [
    "#### Look at distribution of number of proteins in database per virus"
   ]
  },
  {
   "cell_type": "code",
   "execution_count": 13,
   "metadata": {},
   "outputs": [
    {
     "data": {
      "image/png": "[encoded data removed]",
      "text/plain": [
       "<Figure size 400x300 with 1 Axes>"
      ]
     },
     "metadata": {},
     "output_type": "display_data"
    }
   ],
   "source": [
    "#Group by the specific viruses\n",
    "df_protein_groupby = df_protein.groupby('refseq_id')\n",
    "\n",
    "#Plot the frequency \n",
    "plt.figure(figsize=(4, 3))\n",
    "plt.hist(df_protein_groupby['phage_name'].count().values, bins = 200)\n",
    "plt.xlabel('Number of Tail Proteins per Virus')\n",
    "plt.ylabel('Frequency')\n",
    "plt.show()"
   ]
  },
  {
   "cell_type": "code",
   "execution_count": 9,
   "metadata": {},
   "outputs": [
    {
     "data": {
      "image/png": "[encoded data removed]",
      "text/plain": [
       "<Figure size 400x300 with 1 Axes>"
      ]
     },
     "metadata": {},
     "output_type": "display_data"
    }
   ],
   "source": [
    "#Group by the specific viruses\n",
    "df_protein_groupby_trimmed = df_protein_trimmed.groupby('refseq_id')\n",
    "\n",
    "#Plot the frequency \n",
    "plt.figure(figsize=(4, 3))\n",
    "plt.hist(df_protein_groupby_trimmed['phage_name'].count().values, bins = 200)\n",
    "plt.xlabel('Number of Tail Proteins per Virus (trimmed proteins only)')\n",
    "plt.ylabel('Frequency')\n",
    "plt.show()"
   ]
  },
  {
   "cell_type": "code",
   "execution_count": 15,
   "metadata": {},
   "outputs": [
    {
     "name": "stdout",
     "output_type": "stream",
     "text": [
      "There are 548 of 10916 viruses with >10 associated proteins, where each protein has AA length between 200-1024\n",
      "This is 5.0% of viruses\n"
     ]
    }
   ],
   "source": [
    "protein_cutoff = 10\n",
    "num_virus_after_trimmed_proteins = len(df_protein_groupby_trimmed['phage_name'].count())\n",
    "num_too_many_proteins = (df_protein_groupby_trimmed['phage_name'].count() > protein_cutoff).sum()\n",
    "print(f'There are {num_too_many_proteins} of {num_virus_after_trimmed_proteins} viruses with >{protein_cutoff} associated proteins, where each protein has AA length between 200-1024')\n",
    "print(f'This is {num_too_many_proteins/num_virus_after_trimmed_proteins*100:0.1f}% of viruses')"
   ]
  },
  {
   "cell_type": "markdown",
   "metadata": {},
   "source": [
    "#### Examine most common protein type labels"
   ]
  },
  {
   "cell_type": "code",
   "execution_count": 16,
   "metadata": {},
   "outputs": [
    {
     "data": {
      "text/plain": [
       "protein_label\n",
       "minor tail protein                                                   21786\n",
       "tail assembly chaperone                                               8190\n",
       "tail protein                                                          5976\n",
       "major tail protein                                                    5580\n",
       "tail fiber protein                                                    5500\n",
       "                                                                     ...  \n",
       "putative pore forming tail tip protein                                   1\n",
       "putative prophage tail fiber N-terminal domain-containing protein        1\n",
       "putative protail assembly protein                                        1\n",
       "putative proximal hinge connector of long tail fiber                     1\n",
       "virion protein, putative tail protein                                    1\n",
       "Name: phage_name, Length: 1460, dtype: int64"
      ]
     },
     "execution_count": 16,
     "metadata": {},
     "output_type": "execute_result"
    }
   ],
   "source": [
    "df_protein_groupby = df_protein.groupby('protein_label')\n",
    "df_protein_groupby['phage_name'].count().sort_values(ascending=False)"
   ]
  },
  {
   "cell_type": "markdown",
   "metadata": {},
   "source": [
    "#### Apply regex to isolate impactful proteins\n",
    "Used regex sequence observed in literature to identify the most impactful proteins based on their respective labels"
   ]
  },
  {
   "cell_type": "code",
   "execution_count": 17,
   "metadata": {},
   "outputs": [],
   "source": [
    "def run_regex_on_protein_label(x):\n",
    "    '''function to perform regex search on protein labels.  Regex search\n",
    "    pulled from literature'''\n",
    "    pattern = re.compile(r'tail?(.?|\\s*)(?:spike?|fib(?:er|re))|recept(?:o|e)r(.?|\\s*)(?:bind|recogn).*(?:protein)?|(?<!\\w)RBP(?!a)')\n",
    "    if pattern.search(x): return 1\n",
    "    else: return 0\n",
    "\n",
    "#Create copies of dataframes to perform analysis\n",
    "df_protein_regex = df_protein.copy()\n",
    "df_protein_trimmed_regex = df_protein_trimmed.copy()\n",
    "\n",
    "# Run regex over protein labels\n",
    "df_protein_regex['regex'] = df_protein_regex['protein_label'].apply(run_regex_on_protein_label)\n",
    "df_protein_trimmed_regex['regex'] = df_protein_trimmed_regex['protein_label'].apply(run_regex_on_protein_label)\n",
    "\n",
    "# Keep samples with a successful regex run\n",
    "df_protein_regex = df_protein_regex[df_protein_regex['regex'] == 1]\n",
    "df_protein_trimmed_regex = df_protein_trimmed_regex[df_protein_trimmed_regex['regex'] == 1]\n"
   ]
  },
  {
   "cell_type": "code",
   "execution_count": 18,
   "metadata": {},
   "outputs": [
    {
     "data": {
      "image/png": "[encoded data removed]",
      "text/plain": [
       "<Figure size 400x300 with 1 Axes>"
      ]
     },
     "metadata": {},
     "output_type": "display_data"
    }
   ],
   "source": [
    "#Group by the specific viruses\n",
    "df_protein_groupby_trimmed_regex = df_protein_trimmed_regex.groupby('refseq_id')\n",
    "\n",
    "#Plot the frequency \n",
    "plt.figure(figsize=(4, 3))\n",
    "plt.hist(df_protein_groupby_trimmed_regex['phage_name'].count().values, bins = 200)\n",
    "plt.xlabel('Number of Tail Proteins per Virus (trimmed proteins only)')\n",
    "plt.ylabel('Frequency')\n",
    "plt.show()"
   ]
  },
  {
   "cell_type": "markdown",
   "metadata": {},
   "source": [
    "Over half of the phages remaining have only one protein associated with them.  May make classification difficult if that protein is not actually impactful."
   ]
  },
  {
   "cell_type": "code",
   "execution_count": 19,
   "metadata": {},
   "outputs": [
    {
     "name": "stdout",
     "output_type": "stream",
     "text": [
      "Original number of phages in the trimmed dataframe is: 10916\n",
      "Number of phages in the trimmed dataframe after regex is: 4475\n"
     ]
    }
   ],
   "source": [
    "print(f'Original number of phages in the trimmed dataframe is: {len(df_protein_trimmed[\"refseq_id\"].unique())}')\n",
    "print(f'Number of phages in the trimmed dataframe after regex is: {len(df_protein_trimmed_regex[\"refseq_id\"].unique())}')"
   ]
  },
  {
   "cell_type": "markdown",
   "metadata": {},
   "source": [
    "---"
   ]
  },
  {
   "cell_type": "markdown",
   "metadata": {},
   "source": [
    "## Load the NCBI DNA Data"
   ]
  },
  {
   "cell_type": "code",
   "execution_count": 20,
   "metadata": {},
   "outputs": [
    {
     "data": {
      "text/html": [
       "<div>\n",
       "<style scoped>\n",
       "    .dataframe tbody tr th:only-of-type {\n",
       "        vertical-align: middle;\n",
       "    }\n",
       "\n",
       "    .dataframe tbody tr th {\n",
       "        vertical-align: top;\n",
       "    }\n",
       "\n",
       "    .dataframe thead th {\n",
       "        text-align: right;\n",
       "    }\n",
       "</style>\n",
       "<table border=\"1\" class=\"dataframe\">\n",
       "  <thead>\n",
       "    <tr style=\"text-align: right;\">\n",
       "      <th></th>\n",
       "      <th>phage_name</th>\n",
       "      <th>refseq_id</th>\n",
       "      <th>taxonomy</th>\n",
       "      <th>gene_length</th>\n",
       "      <th>gene_sequence</th>\n",
       "    </tr>\n",
       "  </thead>\n",
       "  <tbody>\n",
       "    <tr>\n",
       "      <th>0</th>\n",
       "      <td>Achromobacter phage 2-1</td>\n",
       "      <td>OQ974181</td>\n",
       "      <td>{Viruses,Duplodnaviria,Heunggongvirae,Uroviric...</td>\n",
       "      <td>82711</td>\n",
       "      <td>GACGCCTTACTGTGGCGCAGAAACAACACCGCTACCACGCCTACGC...</td>\n",
       "    </tr>\n",
       "    <tr>\n",
       "      <th>1</th>\n",
       "      <td>Achromobacter phage 83-24</td>\n",
       "      <td>NC_028834</td>\n",
       "      <td>{Viruses,Duplodnaviria,Heunggongvirae,Uroviric...</td>\n",
       "      <td>48216</td>\n",
       "      <td>GCACTTCATGCAGCATGAACATGGACAATGTCCCAAACTGGGACTT...</td>\n",
       "    </tr>\n",
       "    <tr>\n",
       "      <th>2</th>\n",
       "      <td>Achromobacter phage AXY1</td>\n",
       "      <td>OK041469</td>\n",
       "      <td>{Viruses,Duplodnaviria,Heunggongvirae,Uroviric...</td>\n",
       "      <td>61950</td>\n",
       "      <td>GAAGATGTGTATAATCGGCAGCCGCGTACCTCTTCTGACCCCGCCA...</td>\n",
       "    </tr>\n",
       "    <tr>\n",
       "      <th>3</th>\n",
       "      <td>Achromobacter phage JWAlpha</td>\n",
       "      <td>NC_023556</td>\n",
       "      <td>{Viruses,Duplodnaviria,Heunggongvirae,Uroviric...</td>\n",
       "      <td>72329</td>\n",
       "      <td>ACACACCCCCCCGGTGTCTTGCTCCTGTGCACCTCTACCCACCCCC...</td>\n",
       "    </tr>\n",
       "    <tr>\n",
       "      <th>4</th>\n",
       "      <td>Achromobacter phage JWDelta</td>\n",
       "      <td>KF787094</td>\n",
       "      <td>{Viruses,Duplodnaviria,Heunggongvirae,Uroviric...</td>\n",
       "      <td>73659</td>\n",
       "      <td>TTGCGTCACACCCACCCCCGGTGTCTTGCTCCTGTGCACCTCTACC...</td>\n",
       "    </tr>\n",
       "  </tbody>\n",
       "</table>\n",
       "</div>"
      ],
      "text/plain": [
       "                    phage_name  refseq_id  \\\n",
       "0      Achromobacter phage 2-1   OQ974181   \n",
       "1    Achromobacter phage 83-24  NC_028834   \n",
       "2     Achromobacter phage AXY1   OK041469   \n",
       "3  Achromobacter phage JWAlpha  NC_023556   \n",
       "4  Achromobacter phage JWDelta   KF787094   \n",
       "\n",
       "                                            taxonomy  gene_length  \\\n",
       "0  {Viruses,Duplodnaviria,Heunggongvirae,Uroviric...        82711   \n",
       "1  {Viruses,Duplodnaviria,Heunggongvirae,Uroviric...        48216   \n",
       "2  {Viruses,Duplodnaviria,Heunggongvirae,Uroviric...        61950   \n",
       "3  {Viruses,Duplodnaviria,Heunggongvirae,Uroviric...        72329   \n",
       "4  {Viruses,Duplodnaviria,Heunggongvirae,Uroviric...        73659   \n",
       "\n",
       "                                       gene_sequence  \n",
       "0  GACGCCTTACTGTGGCGCAGAAACAACACCGCTACCACGCCTACGC...  \n",
       "1  GCACTTCATGCAGCATGAACATGGACAATGTCCCAAACTGGGACTT...  \n",
       "2  GAAGATGTGTATAATCGGCAGCCGCGTACCTCTTCTGACCCCGCCA...  \n",
       "3  ACACACCCCCCCGGTGTCTTGCTCCTGTGCACCTCTACCCACCCCC...  \n",
       "4  TTGCGTCACACCCACCCCCGGTGTCTTGCTCCTGTGCACCTCTACC...  "
      ]
     },
     "execution_count": 20,
     "metadata": {},
     "output_type": "execute_result"
    }
   ],
   "source": [
    "#Pull data from CSV file -> converted from SQL table created in 'Exploration.ipynb' file\n",
    "df_DNA= pd.read_csv('data/DNA_data_2024_06_04.csv', delimiter=',')\n",
    "df_DNA.head()"
   ]
  },
  {
   "cell_type": "code",
   "execution_count": 21,
   "metadata": {},
   "outputs": [
    {
     "name": "stdout",
     "output_type": "stream",
     "text": [
      "There are 13827 viruses in the DNA table\n",
      "There are 13467 unique viruses with genomic information\n"
     ]
    }
   ],
   "source": [
    "#Summarize\n",
    "print(f'There are {len(df_DNA)} viruses in the DNA table')\n",
    "print(f'There are {len(df_DNA[\"refseq_id\"].unique())} unique viruses with genomic information')"
   ]
  },
  {
   "cell_type": "code",
   "execution_count": 22,
   "metadata": {},
   "outputs": [],
   "source": [
    "#Collect refseq/genbank id's from the two dataframes for comparison\n",
    "VHDB_refseq_ids = list(df_bacteria_filtered['refseq id'].unique())\n",
    "NCBI_refseq_ids = list(df_DNA['refseq_id'].unique())"
   ]
  },
  {
   "cell_type": "code",
   "execution_count": 23,
   "metadata": {},
   "outputs": [
    {
     "name": "stdout",
     "output_type": "stream",
     "text": [
      "There are 13395 unique viruses in the original VHDB database\n",
      "There are 13467 viruses in the DNA table\n"
     ]
    }
   ],
   "source": [
    "print(f'There are {len(VHDB_refseq_ids)} unique viruses in the original VHDB database')\n",
    "print(f'There are {len(NCBI_refseq_ids)} viruses in the DNA table')"
   ]
  },
  {
   "cell_type": "code",
   "execution_count": 24,
   "metadata": {},
   "outputs": [
    {
     "data": {
      "text/plain": [
       "['OM418625', 'OX001802']"
      ]
     },
     "execution_count": 24,
     "metadata": {},
     "output_type": "execute_result"
    }
   ],
   "source": [
    "#Identify refseq/genbank ID's that are in VirusHostDB, but not in SQL database\n",
    "refseq_ids_to_add = []\n",
    "for refseq_id in VHDB_refseq_ids:\n",
    "    if refseq_id not in NCBI_refseq_ids:\n",
    "        refseq_ids_to_add.append(refseq_id)\n",
    "\n",
    "refseq_ids_to_add"
   ]
  },
  {
   "cell_type": "markdown",
   "metadata": {},
   "source": [
    "- On the first pass there were ~75 id's that were in `df_bacteria_filtered` and not in `df_DNA`\n",
    "    - After running API call on those id's, there are 2 that continued to fail\n",
    "        - ['OM418625', 'OX001802']"
   ]
  },
  {
   "cell_type": "code",
   "execution_count": 25,
   "metadata": {},
   "outputs": [
    {
     "data": {
      "text/plain": [
       "refseq_id\n",
       "NC_001421    6\n",
       "NC_071043    4\n",
       "NC_049396    4\n",
       "NC_049962    4\n",
       "NC_028890    4\n",
       "            ..\n",
       "MH576956     2\n",
       "MH536825     2\n",
       "NC_048755    1\n",
       "NC_048868    1\n",
       "NC_048870    1\n",
       "Name: phage_name, Length: 315, dtype: int64"
      ]
     },
     "execution_count": 25,
     "metadata": {},
     "output_type": "execute_result"
    }
   ],
   "source": [
    "#See which viruses are recorded multiple times in the DNA database\n",
    "df_DNA.groupby('refseq_id')['phage_name'].count().sort_values(ascending=False)[0:315]"
   ]
  },
  {
   "cell_type": "markdown",
   "metadata": {},
   "source": [
    "Note: \n",
    "- May need to reduce this to one interaction per phage for prediction purposes\n",
    "- Have seen in literature that people pick the bacteria that has the most PBI's as the interaction to keep\n"
   ]
  },
  {
   "cell_type": "markdown",
   "metadata": {},
   "source": [
    "___"
   ]
  },
  {
   "cell_type": "markdown",
   "metadata": {},
   "source": [
    "# Combine All Data into One DataFrame"
   ]
  },
  {
   "cell_type": "markdown",
   "metadata": {},
   "source": [
    "### Select Top Bacteria for Phages with Multiple Interactions "
   ]
  },
  {
   "cell_type": "markdown",
   "metadata": {},
   "source": [
    "Some phages have interactions with multiple bacteria.  Need to only have 1 bacteria interaction listed per phage (outcome variable).  Will select the most common bacteria as the top bacteria for each phage that has multiple interactions."
   ]
  },
  {
   "cell_type": "code",
   "execution_count": 26,
   "metadata": {},
   "outputs": [],
   "source": [
    "def assign_top_bacteria_to_phage(df_bacteria_filtered):\n",
    "    '''Some phages have interactions with multiple bacteria.  There are 313 out of \n",
    "    ~13500 in this dataset.  Consistent with literature, the bacteria with the highest\n",
    "    number of interactions in the dataset will be applied as the single interaction\n",
    "    for a phage with multiple interactions'''\n",
    "\n",
    "    def select_top_bacteria(x, bacteria_df):\n",
    "        '''The workhorse function that calculates which bacteria has the highest number of \n",
    "        interactions for bacteria that interact with a given phage\n",
    "\n",
    "        Intented to be applied to a dataframe'''\n",
    "        top_bacteria = ''\n",
    "        top_count = 0\n",
    "        for bacteria in x:\n",
    "            try: \n",
    "                current_count = bacteria_df[bacteria_df['host name'] == bacteria]['refseq id'].item()\n",
    "            except:\n",
    "                current_count = 0\n",
    "                print('failed here')\n",
    "            if current_count > top_count:\n",
    "                top_count = current_count\n",
    "                top_bacteria = bacteria\n",
    "        return top_bacteria\n",
    "\n",
    "    # Group the df by phage refseq id, with a list of bacteria that it\n",
    "    # interacts with in the 'host name' column\n",
    "    df_group = df_bacteria_filtered.groupby('refseq id')\n",
    "    df_phages = df_group['host name'].agg(list).reset_index()  \n",
    "\n",
    "    # Create a dataframe that contains a count of the number of interactions\n",
    "    # listed by bacteria name \n",
    "    df_bacteria_count= df_bacteria_filtered.groupby('host name')['refseq id'].count().reset_index()\n",
    "\n",
    "    # Apply calculation of top bacteria for each phage\n",
    "    df_phages['top host name'] = df_phages['host name'].apply(lambda x: select_top_bacteria(x,df_bacteria_count))\n",
    "\n",
    "    df_phages = df_phages[['refseq id', 'top host name']].rename(columns={'refseq id':'refseq_id', 'top host name':'host_name'})\n",
    "\n",
    "    return df_phages"
   ]
  },
  {
   "cell_type": "code",
   "execution_count": 27,
   "metadata": {},
   "outputs": [],
   "source": [
    "def regex_to_curate_tail_protein(df):\n",
    "    '''Function to run the regex from literature that identifies the most impactful proteins based on their\n",
    "    named labels.  Will remove protein data from df that are not identified in the regex'''\n",
    "    def run_regex_on_protein_label(x):\n",
    "        '''function to perform regex search on protein labels.  Regex search\n",
    "        pulled from literature'''\n",
    "        pattern = re.compile(r'tail?(.?|\\s*)(?:spike?|fib(?:er|re))|recept(?:o|e)r(.?|\\s*)(?:bind|recogn).*(?:protein)?|(?<!\\w)RBP(?!a)')\n",
    "        if pattern.search(x): return 1\n",
    "        else: return 0\n",
    "\n",
    "    # Run regex over protein labels\n",
    "    df['regex'] = df['protein_label'].apply(run_regex_on_protein_label)\n",
    "\n",
    "    # Keep samples with a successful regex run\n",
    "    df = df[df['regex'] == 1]\n",
    "    \n",
    "    #Drop the regex column\n",
    "    df.drop('regex', axis=1, inplace=True)\n",
    "    return df"
   ]
  },
  {
   "cell_type": "code",
   "execution_count": 28,
   "metadata": {},
   "outputs": [
    {
     "data": {
      "text/html": [
       "<div>\n",
       "<style scoped>\n",
       "    .dataframe tbody tr th:only-of-type {\n",
       "        vertical-align: middle;\n",
       "    }\n",
       "\n",
       "    .dataframe tbody tr th {\n",
       "        vertical-align: top;\n",
       "    }\n",
       "\n",
       "    .dataframe thead th {\n",
       "        text-align: right;\n",
       "    }\n",
       "</style>\n",
       "<table border=\"1\" class=\"dataframe\">\n",
       "  <thead>\n",
       "    <tr style=\"text-align: right;\">\n",
       "      <th></th>\n",
       "      <th>refseq_id</th>\n",
       "      <th>host_name</th>\n",
       "    </tr>\n",
       "  </thead>\n",
       "  <tbody>\n",
       "    <tr>\n",
       "      <th>0</th>\n",
       "      <td>AB626963</td>\n",
       "      <td>Staphylococcus aureus</td>\n",
       "    </tr>\n",
       "    <tr>\n",
       "      <th>1</th>\n",
       "      <td>AB910392</td>\n",
       "      <td>Pseudomonas</td>\n",
       "    </tr>\n",
       "  </tbody>\n",
       "</table>\n",
       "</div>"
      ],
      "text/plain": [
       "  refseq_id              host_name\n",
       "0  AB626963  Staphylococcus aureus\n",
       "1  AB910392            Pseudomonas"
      ]
     },
     "execution_count": 28,
     "metadata": {},
     "output_type": "execute_result"
    }
   ],
   "source": [
    "df_top_bacteria_by_phage = assign_top_bacteria_to_phage(df_bacteria_filtered)\n",
    "df_top_bacteria_by_phage.head(2)"
   ]
  },
  {
   "cell_type": "code",
   "execution_count": 29,
   "metadata": {},
   "outputs": [],
   "source": [
    "df_protein = pd.read_csv('data/protein_data_2024_06_04.csv', delimiter=',')"
   ]
  },
  {
   "cell_type": "markdown",
   "metadata": {},
   "source": [
    "### Combine Protein data, DNA Data, and Labeled Data into One Dataframe"
   ]
  },
  {
   "cell_type": "code",
   "execution_count": 30,
   "metadata": {},
   "outputs": [],
   "source": [
    "# Set up flag to pass through regex or not\n",
    "use_regex = True"
   ]
  },
  {
   "cell_type": "code",
   "execution_count": null,
   "metadata": {},
   "outputs": [],
   "source": [
    "# Filter out proteins that are too large or too small\n",
    "min_prot_length = 200\n",
    "max_prot_length = 1024\n",
    "df_protein_filtered = df_protein[(df_protein['protein_sequence'].str.len() >= min_prot_length) & (df_protein['protein_sequence'].str.len() <= max_prot_length)]\n",
    "\n",
    "if use_regex:\n",
    "    # Pass protein labels through regex and remove\n",
    "    df_protein_filtered = regex_to_curate_tail_protein(df_protein_filtered)\n",
    "\n",
    "# Group the dataframe by refseq_id to create a list of proteins and merge with bacteria df to assign \n",
    "# corresponding host_name for phage\n",
    "grouped_data_df = df_protein_filtered.groupby('refseq_id').agg(list).reset_index()\n",
    "grouped_data_df = pd.merge(grouped_data_df, df_top_bacteria_by_phage, on='refseq_id', how='inner')[['refseq_id', 'protein_label', 'protein_sequence', 'host_name']]\n",
    "\n",
    "# Select first 10 proteins for phage if a phage has >10 proteins\n",
    "grouped_data_df['protein_sequence'] = grouped_data_df['protein_sequence'].apply(lambda x: x[:10] if len(x) > 10 else x)\n",
    "\n",
    "# Add DNA sequences.  Drop duplicates since some phages are in DNA sequence twice.  It's been confirmed\n",
    "# that they have the same DNA sequence and were just queried twice to the NCBI database\n",
    "grouped_data_df = pd.merge(grouped_data_df, df_DNA, on='refseq_id', how='inner')[['refseq_id', 'protein_label', 'protein_sequence', 'gene_sequence', 'host_name']]\n",
    "grouped_data_df = grouped_data_df.drop_duplicates(subset=['refseq_id'], keep='first')"
   ]
  },
  {
   "cell_type": "markdown",
   "metadata": {},
   "source": [
    "##### Save Compiled Dataframe"
   ]
  },
  {
   "cell_type": "code",
   "execution_count": 128,
   "metadata": {},
   "outputs": [],
   "source": [
    "# Convert protein_sequence column to JSON format so the list structure can be maintained\n",
    "grouped_data_df['protein_sequence'] = grouped_data_df['protein_sequence'].apply(json.dumps)\n",
    "grouped_data_df['protein_label'] = grouped_data_df['protein_label'].apply(json.dumps)\n",
    "\n",
    "#Save File\n",
    "#file_path = '/Users/blakebleier/Library/CloudStorage/GoogleDrive-blable543@gmail.com/My Drive/DS_266_Final_Project_PBI/data/filtered_data/dna_protein_compiled_2024_07_03.csv'\n",
    "file_path = '/Users/blakebleier/Library/CloudStorage/GoogleDrive-blable543@gmail.com/My Drive/DS_266_Final_Project_PBI/data/filtered_data/dna_protein_compiled_curated_2024_07_20.csv'\n",
    "grouped_data_df.to_csv(file_path, index=False)"
   ]
  },
  {
   "cell_type": "markdown",
   "metadata": {},
   "source": [
    "##### Load Compiled Dataframe"
   ]
  },
  {
   "cell_type": "code",
   "execution_count": 129,
   "metadata": {},
   "outputs": [],
   "source": [
    "# Load dataframe from the saved csv file\n",
    "grouped_data_df_new = pd.read_csv(file_path)\n",
    "\n",
    "# Convert JSON strings back to lists\n",
    "grouped_data_df_new['protein_sequence'] = grouped_data_df_new['protein_sequence'].apply(json.loads)\n",
    "grouped_data_df['protein_label'] = grouped_data_df['protein_label'].apply(json.dumps)"
   ]
  },
  {
   "cell_type": "code",
   "execution_count": 130,
   "metadata": {},
   "outputs": [
    {
     "data": {
      "text/html": [
       "<div>\n",
       "<style scoped>\n",
       "    .dataframe tbody tr th:only-of-type {\n",
       "        vertical-align: middle;\n",
       "    }\n",
       "\n",
       "    .dataframe tbody tr th {\n",
       "        vertical-align: top;\n",
       "    }\n",
       "\n",
       "    .dataframe thead th {\n",
       "        text-align: right;\n",
       "    }\n",
       "</style>\n",
       "<table border=\"1\" class=\"dataframe\">\n",
       "  <thead>\n",
       "    <tr style=\"text-align: right;\">\n",
       "      <th></th>\n",
       "      <th>refseq_id</th>\n",
       "      <th>protein_label</th>\n",
       "      <th>protein_sequence</th>\n",
       "      <th>gene_sequence</th>\n",
       "      <th>host_name</th>\n",
       "    </tr>\n",
       "  </thead>\n",
       "  <tbody>\n",
       "    <tr>\n",
       "      <th>0</th>\n",
       "      <td>AF527608</td>\n",
       "      <td>[\"tailspike protein\"]</td>\n",
       "      <td>[MTDITANVVVSNPRPIFTESRSFKAVANGKIYIGQIDTDPVNPAN...</td>\n",
       "      <td>AGAGAAGATTTATCTGAAGTCGTTACGCGAGCAGAACAGGTCATCT...</td>\n",
       "      <td>Salmonella enterica subsp. enterica serovar Ty...</td>\n",
       "    </tr>\n",
       "    <tr>\n",
       "      <th>1</th>\n",
       "      <td>AJ304858</td>\n",
       "      <td>[\"putative tail fiber component Z\", \"putative ...</td>\n",
       "      <td>[MSMAIKGLAQAMKNLDAIDRRAVPRAAATTLNRVAESIIAKTASS...</td>\n",
       "      <td>CATCCGTTCCATTTCGAGATCGGACGTGGCGACCAGCATCTTGCCG...</td>\n",
       "      <td>Escherichia coli</td>\n",
       "    </tr>\n",
       "    <tr>\n",
       "      <th>2</th>\n",
       "      <td>AM076770</td>\n",
       "      <td>[\"tail fiber protein 1\", \"tail fiber protein 2...</td>\n",
       "      <td>[MNDNAVDFDKIFASAAPIERDLEEHEYLKGWAYLDEKAPEFEDFD...</td>\n",
       "      <td>GGGCGGCGACCTCCGCTCCTGCGGGTCAGGGCGGCGGGCCTTGCCT...</td>\n",
       "      <td>Yersinia pestis</td>\n",
       "    </tr>\n",
       "  </tbody>\n",
       "</table>\n",
       "</div>"
      ],
      "text/plain": [
       "  refseq_id                                      protein_label  \\\n",
       "0  AF527608                              [\"tailspike protein\"]   \n",
       "1  AJ304858  [\"putative tail fiber component Z\", \"putative ...   \n",
       "2  AM076770  [\"tail fiber protein 1\", \"tail fiber protein 2...   \n",
       "\n",
       "                                    protein_sequence  \\\n",
       "0  [MTDITANVVVSNPRPIFTESRSFKAVANGKIYIGQIDTDPVNPAN...   \n",
       "1  [MSMAIKGLAQAMKNLDAIDRRAVPRAAATTLNRVAESIIAKTASS...   \n",
       "2  [MNDNAVDFDKIFASAAPIERDLEEHEYLKGWAYLDEKAPEFEDFD...   \n",
       "\n",
       "                                       gene_sequence  \\\n",
       "0  AGAGAAGATTTATCTGAAGTCGTTACGCGAGCAGAACAGGTCATCT...   \n",
       "1  CATCCGTTCCATTTCGAGATCGGACGTGGCGACCAGCATCTTGCCG...   \n",
       "2  GGGCGGCGACCTCCGCTCCTGCGGGTCAGGGCGGCGGGCCTTGCCT...   \n",
       "\n",
       "                                           host_name  \n",
       "0  Salmonella enterica subsp. enterica serovar Ty...  \n",
       "1                                   Escherichia coli  \n",
       "2                                    Yersinia pestis  "
      ]
     },
     "execution_count": 130,
     "metadata": {},
     "output_type": "execute_result"
    }
   ],
   "source": [
    "grouped_data_df_new.head(3)"
   ]
  },
  {
   "cell_type": "markdown",
   "metadata": {},
   "source": [
    "#### Shuffle the data and split into train/test/val"
   ]
  },
  {
   "cell_type": "code",
   "execution_count": 219,
   "metadata": {},
   "outputs": [],
   "source": [
    "df_shuffled = grouped_data_df_new.sample(frac=1, random_state=1234)  "
   ]
  },
  {
   "cell_type": "code",
   "execution_count": 220,
   "metadata": {},
   "outputs": [
    {
     "name": "stdout",
     "output_type": "stream",
     "text": [
      "Train size: 8700\n",
      "Validation size: 1087\n",
      "Test size: 1089\n"
     ]
    }
   ],
   "source": [
    "# Set the ratios for splitting into train/test/val sets\n",
    "train_size = int(len(grouped_data_df_new) * 0.8)\n",
    "validation_size = int(len(grouped_data_df_new) * 0.1)\n",
    "test_size = len(grouped_data_df_new) - train_size - validation_size\n",
    "\n",
    "# Split the data into training and temporary set (temporary set will be split into validation and test)\n",
    "train_df, temp_df = train_test_split(df_shuffled, train_size=train_size, random_state=1234)\n",
    "\n",
    "# Split the temporary set into validation and test sets\n",
    "validation_df, test_df = train_test_split(temp_df, test_size=test_size, random_state=1234)\n",
    "\n",
    "print(f\"Train size: {len(train_df)}\")\n",
    "print(f\"Validation size: {len(validation_df)}\")\n",
    "print(f\"Test size: {len(test_df)}\")"
   ]
  }
 ],
 "metadata": {
  "kernelspec": {
   "display_name": "summer",
   "language": "python",
   "name": "python3"
  },
  "language_info": {
   "codemirror_mode": {
    "name": "ipython",
    "version": 3
   },
   "file_extension": ".py",
   "mimetype": "text/x-python",
   "name": "python",
   "nbconvert_exporter": "python",
   "pygments_lexer": "ipython3",
   "version": "3.11.5"
  }
 },
 "nbformat": 4,
 "nbformat_minor": 2
}
